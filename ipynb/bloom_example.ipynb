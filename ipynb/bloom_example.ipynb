{
 "cells": [
  {
   "cell_type": "code",
   "execution_count": null,
   "metadata": {
    "collapsed": true
   },
   "outputs": [],
   "source": [
    "Here we will "
   ]
  },
  {
   "cell_type": "code",
   "execution_count": 8,
   "metadata": {
    "collapsed": false
   },
   "outputs": [],
   "source": [
    "import os\n",
    "import skbio\n",
    "from biom import Table, load_table\n",
    "from biom.util import biom_open\n",
    "from bloom import remove_seqs, trim_seqs"
   ]
  },
  {
   "cell_type": "code",
   "execution_count": 2,
   "metadata": {
    "collapsed": false
   },
   "outputs": [],
   "source": [
    "data_dir = '../data/'\n",
    "results_dir = '../results'\n",
    "zip_file = '30_seqs.fna.gz'\n",
    "seqs_file = '30_seqs.fna'\n",
    "biom_file = 'ercolini.feces.clean.withtax.biom'\n",
    "filtered_file = 'filtered.fna'\n",
    "\n",
    "zip_file = os.path.join(data_dir, zip_file)\n",
    "seqs_file = os.path.join(data_dir, seqs_file)\n",
    "biom_file = os.path.join(data_dir, biom_file)\n",
    "filtered_file = os.path.join(results_dir, filtered_file)"
   ]
  },
  {
   "cell_type": "code",
   "execution_count": 3,
   "metadata": {
    "collapsed": false
   },
   "outputs": [
    {
     "name": "stdout",
     "output_type": "stream",
     "text": [
      "gunzip: can't stat: ../data/30_seqs.fna.gz (../data/30_seqs.fna.gz.gz): No such file or directory\r\n"
     ]
    }
   ],
   "source": [
    "!gunzip ../data/30_seqs.fna.gz"
   ]
  },
  {
   "cell_type": "code",
   "execution_count": 4,
   "metadata": {
    "collapsed": false
   },
   "outputs": [],
   "source": [
    "seqs = skbio.read(seqs_file, format='fasta')\n",
    "table = load_table(biom_file)"
   ]
  },
  {
   "cell_type": "code",
   "execution_count": 5,
   "metadata": {
    "collapsed": false
   },
   "outputs": [],
   "source": [
    "length = min(map(len, table.ids(axis='observation')))"
   ]
  },
  {
   "cell_type": "code",
   "execution_count": 6,
   "metadata": {
    "collapsed": true
   },
   "outputs": [],
   "source": [
    "seqs = trim_seqs(seqs, length=length)\n",
    "outtable = remove_seqs(table, seqs)"
   ]
  },
  {
   "cell_type": "code",
   "execution_count": 9,
   "metadata": {
    "collapsed": false
   },
   "outputs": [],
   "source": [
    "with biom_open(filtered_file, 'w') as f:\n",
    "        outtable.to_hdf5(f, \"filterbiomseqs\")\n"
   ]
  },
  {
   "cell_type": "code",
   "execution_count": null,
   "metadata": {
    "collapsed": true
   },
   "outputs": [],
   "source": []
  }
 ],
 "metadata": {
  "kernelspec": {
   "display_name": "Python 3",
   "language": "python",
   "name": "python3"
  },
  "language_info": {
   "codemirror_mode": {
    "name": "ipython",
    "version": 3
   },
   "file_extension": ".py",
   "mimetype": "text/x-python",
   "name": "python",
   "nbconvert_exporter": "python",
   "pygments_lexer": "ipython3",
   "version": "3.5.2"
  }
 },
 "nbformat": 4,
 "nbformat_minor": 0
}
