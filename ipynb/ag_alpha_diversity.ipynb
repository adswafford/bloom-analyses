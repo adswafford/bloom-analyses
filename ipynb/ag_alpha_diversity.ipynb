{
 "cells": [
  {
   "cell_type": "markdown",
   "metadata": {},
   "source": [
    "# Validation with the American Gut data\n",
    "\n",
    "Copyright (c) 2013, The Deblur Development Team.\n",
    "\n",
    "Please use this notebook with [conda enviroment]."
   ]
  },
  {
   "cell_type": "markdown",
   "metadata": {},
   "source": [
    "The purpose of this notebook is to evaluate the effects of different deblurring depths on the biological patterns in data from the [American Gut Project](www.americangut.org). We expect the alpha diversity of a bacterial community to significantly increase with age, as previously seen [[1](#1),[2](#2)].\n",
    "\n",
    "The metadata was downloaded from the American Gut FTP."
   ]
  },
  {
   "cell_type": "code",
   "execution_count": 6,
   "metadata": {
    "collapsed": false
   },
   "outputs": [
    {
     "name": "stdout",
     "output_type": "stream",
     "text": [
      "--2016-10-27 17:31:48--  ftp://ftp.microbio.me/AmericanGut/ag-July-29-2016/01-raw/metadata.txt\n",
      "           => ‘metadata.txt’\n",
      "Resolving ftp.microbio.me... 169.228.46.98\n",
      "Connecting to ftp.microbio.me|169.228.46.98|:21... connected.\n",
      "Logging in as anonymous ... Logged in!\n",
      "==> SYST ... done.    ==> PWD ... done.\n",
      "==> TYPE I ... done.  ==> CWD (1) /AmericanGut/ag-July-29-2016/01-raw ... done.\n",
      "==> SIZE metadata.txt ... 51322841\n",
      "==> PASV ... done.    ==> RETR metadata.txt ... done.\n",
      "Length: 51322841 (49M) (unauthoritative)\n",
      "\n",
      "metadata.txt        100%[===================>]  48.94M  6.43MB/s    in 7.8s    \n",
      "\n",
      "2016-10-27 17:31:56 (6.27 MB/s) - ‘metadata.txt’ saved [51322841]\n",
      "\n"
     ]
    },
    {
     "data": {
      "text/plain": [
       "'../data/ag_metadata.txt'"
      ]
     },
     "execution_count": 6,
     "metadata": {},
     "output_type": "execute_result"
    }
   ],
   "source": [
    "!wget ftp://ftp.microbio.me/AmericanGut/ag-July-29-2016/01-raw/metadata.txt || curl -OL ftp://ftp.microbio.me/AmericanGut/ag-July-29-2016/01-raw/metadata.txt\n",
    "# Moves the downloaded file into the correct directory\n",
    "import shutil\n",
    "shutil.move('./metadata.txt', '../data/ag_metadata.txt')"
   ]
  },
  {
   "cell_type": "code",
   "execution_count": 1,
   "metadata": {
    "collapsed": true
   },
   "outputs": [],
   "source": [
    "import pandas as pd\n",
    "map_ = pd.read_csv('../data/ag_metadata.txt', sep='\\t', dtype=str)\n",
    "map_.set_index('#SampleID', inplace=True)"
   ]
  },
  {
   "cell_type": "markdown",
   "metadata": {},
   "source": [
    "We'll work with fecal samples from a subset of adults 20-69 with BMIs between 18.5 and 30, no history of diabetes or inflammatory bowel disease who have  not use antibiotics in the past year."
   ]
  },
  {
   "cell_type": "code",
   "execution_count": 2,
   "metadata": {
    "collapsed": false
   },
   "outputs": [],
   "source": [
    "map_ = map_.loc[map_['SUBSET_HEALTHY'].apply(lambda x: x in {'True', 'true'})]\n",
    "map_ = map_.loc[map_['BODY_HABITAT'] == 'UBERON:feces']"
   ]
  },
  {
   "cell_type": "markdown",
   "metadata": {},
   "source": [
    "Tables were processed using the methods in [notebook X]().\n",
    "\n",
    "Alpha diversity was calculated in QIIME 1.9.1, where it is assumed the files are in a folder below the notebook, and sequence depth (i.e. `bloom10`) changes to appropriately reflect the number of filtered sequences.\n",
    "\n",
    "```\n",
    "# filter different bloom levels\n",
    "for i in `seq 0 21`;\n",
    "do\n",
    "\t~/scripts/filterbiomseqs.py -i ag.pos.125.min10.withtax.biom -f ../../newbloom.all.fa -o ag.pos.125.min10.withtax.bloom$i.biom -n $i\n",
    "\tmultiple_rarefactions_even_depth.py -i biom/ag.pos.125.min10.withtax.bloom$i.biom -d 2000 -o ./rarefaction/$i -n 10\n",
    "\talpha_diversity.py -i rarefaction/$i/ -o alpha/$i/ -m shannon\n",
    "\tcollate_alpha.py -i alpha/$i/ -o alphacollated/$i/\n",
    "done    \n",
    "```\n",
    "\n",
    "The collated alpha diversity files can be downloaded from [location].\n",
    "\n",
    "We'll import those files, and calculate the mean diversity for each of the rarefaction instances."
   ]
  },
  {
   "cell_type": "code",
   "execution_count": 6,
   "metadata": {
    "collapsed": false
   },
   "outputs": [],
   "source": [
    "import numpy as np\n",
    "\n",
    "numfilter=22\n",
    "for i in range(numfilter):\n",
    "    diversity = pd.read_csv('../data/alpha/%i/shannon.txt' % i, sep='\\t', index_col=0)\n",
    "    map_['shannon_%i' % i] = diversity.mean()"
   ]
  },
  {
   "cell_type": "markdown",
   "metadata": {},
   "source": [
    "Let's filter out any samples which do not appear after all filtering."
   ]
  },
  {
   "cell_type": "code",
   "execution_count": 10,
   "metadata": {
    "collapsed": false
   },
   "outputs": [],
   "source": [
    "map_ = map_.loc[map_['shannon_%i' % (numfilter-1)].dropna().index]"
   ]
  },
  {
   "cell_type": "markdown",
   "metadata": {},
   "source": [
    "Now, we can perform the comparisons with age. We'll use a kruskal wallis test, and calculate a test statistic and p-value."
   ]
  },
  {
   "cell_type": "code",
   "execution_count": 11,
   "metadata": {
    "collapsed": false
   },
   "outputs": [],
   "source": [
    "from scipy.stats import kruskal\n",
    "ages = ['20s', '30s', '40s', '50s', '60s']\n",
    "\n",
    "kruskal_results = [kruskal(*[map_.loc[map_['AGE_CAT'] == age, 'shannon_%i' % filter_].dropna()\n",
    "                            for age in ages]) for filter_ in range(numfilter)]\n",
    "statitics, p_values = zip(*kruskal_results)"
   ]
  },
  {
   "cell_type": "markdown",
   "metadata": {},
   "source": [
    "Let's plot our test statitics as a function of filtering depth."
   ]
  },
  {
   "cell_type": "code",
   "execution_count": 12,
   "metadata": {
    "collapsed": false
   },
   "outputs": [
    {
     "data": {
      "image/png": "[encoded data removed]",
      "text/plain": [
       "<matplotlib.figure.Figure at 0x11b46a9e8>"
      ]
     },
     "metadata": {},
     "output_type": "display_data"
    }
   ],
   "source": [
    "# Sets up pretty plots\n",
    "from matplotlib import use\n",
    "import matplotlib.pyplot as plt\n",
    "import seaborn as sn\n",
    "sn.set_style('ticks')\n",
    "% matplotlib inline\n",
    "\n",
    "# Plots the data\n",
    "ax = plt.axes()\n",
    "ax.bar(left=np.arange(0, numfilter) + 0.1,\n",
    "       height=statitics,\n",
    "       width=0.8,\n",
    "       )\n",
    "# Formats and labels the axes\n",
    "ax.set_xticks(np.arange(0.5, numfilter))\n",
    "ax.set_xticklabels(map(int, range(numfilter)))\n",
    "ax.set_xlabel('Bloom Sequences Removed')\n",
    "ax.set_ylabel('Kruskal Wallis H statistic')\n",
    "sn.despine()\n",
    "\n",
    "# Saves the figure\n",
    "ax.figure.savefig('../results/bloom_statistic.pdf')"
   ]
  },
  {
   "cell_type": "markdown",
   "metadata": {},
   "source": [
    "Now, let's plot the negative log of the p-values."
   ]
  },
  {
   "cell_type": "code",
   "execution_count": 14,
   "metadata": {
    "collapsed": false
   },
   "outputs": [
    {
     "data": {
      "image/png": "[encoded data removed]",
      "text/plain": [
       "<matplotlib.figure.Figure at 0x118212c18>"
      ]
     },
     "metadata": {},
     "output_type": "display_data"
    }
   ],
   "source": [
    "# Plots the data\n",
    "ax = plt.axes()\n",
    "ax.bar(left=np.arange(0, numfilter) + 0.1,\n",
    "       height=np.log(np.array(p_values)),\n",
    "       width=0.8,\n",
    "       )\n",
    "# Formats and labels the axes\n",
    "ax.set_xticks(np.arange(0.5, numfilter))\n",
    "ax.set_xticklabels(map(int, range(numfilter)))\n",
    "ax.set_xlabel('Bloom Sequences Removed')\n",
    "ax.set_ylabel('log$_{10}$(p-value)')\n",
    "sn.despine()\n",
    "\n",
    "# Saves the figure\n",
    "ax.figure.savefig('../results/bloom_p-value.pdf')"
   ]
  },
  {
   "cell_type": "markdown",
   "metadata": {},
   "source": [
    "Therefore, we have demonstrated the ability to see a significant difference with reguard to age in the American Gut population is dependent on the bloom filter depth."
   ]
  },
  {
   "cell_type": "markdown",
   "metadata": {},
   "source": [
    "# References\n",
    "\n",
    "<ol><li>\n",
    "<a id=\"1\"></a>Yatsunenko, T.; Rey, F.E.; Manary, M.J.; Trehan I.; Dominguez-Bello, M.G.; Contreras, M.; Magris, M.' Hidalgo, G.; Baldassano, R.N.; Anokhin, A.P.; Heath, A.C.; Warner, B.; Reeder, J.; Kuczynski, J.; Caporaso, J.G.; Lozupone, C.A.; Lauber, C.; Clemente, J.C.; Knights, D.; Knight, R.; Gordon, J.I. (2012). \"<a href=\"https://www.ncbi.nlm.nih.gov/pubmed/22699611\">Human gut microbiome viewed across age and geography</a>\". <em>Nature</em>. <strong>486</strong>: 222-227.\n",
    "</li><li>\n",
    "<a id=\"2\"></a>Koenig, J.E.; Spor, A.; Scalfone, N.; Fricker, A.D.; Stombaugh, J.; Knight, R.; Angenent, L.T.; Ley, R.E. (2011). \"<a href=\"https://www.ncbi.nlm.nih.gov/pubmed/20668239\">Succession of microbial consortia in the developing infant gut microbiome</a>\". <em>PNAS</em>. <strong>108 Suppl 1</strong>: 4578-4585.\n",
    "</li></ol>"
   ]
  }
 ],
 "metadata": {
  "anaconda-cloud": {},
  "kernelspec": {
   "display_name": "Python [conda env:qt5test]",
   "language": "python",
   "name": "conda-env-qt5test-py"
  },
  "language_info": {
   "codemirror_mode": {
    "name": "ipython",
    "version": 3
   },
   "file_extension": ".py",
   "mimetype": "text/x-python",
   "name": "python",
   "nbconvert_exporter": "python",
   "pygments_lexer": "ipython3",
   "version": "3.5.2"
  }
 },
 "nbformat": 4,
 "nbformat_minor": 0
}
